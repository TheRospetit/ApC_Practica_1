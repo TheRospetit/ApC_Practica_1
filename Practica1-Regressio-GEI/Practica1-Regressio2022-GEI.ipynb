{
 "cells": [
  {
   "cell_type": "markdown",
   "id": "ccf4e991",
   "metadata": {},
   "source": [
    "# Introducció a la pràctica 1: primers passos\n",
    "\n",
    "## Objectius\n",
    "\n",
    "Els objectius d'aquesta pràctica són:\n",
    "\n",
    "* Aplicar models de regressió, ficant l'èmfasi en: \n",
    "    1. Analitzar els atributs per seleccionar els més representatius i normalitzar-los.\n",
    "    2. Avaluar correctament l'error del model \n",
    "    3. Visualitzar les dades i el model resultant\n",
    "    4. Saber aplicar el procès de descens del gradient\n",
    "\n",
    "* Ésser capaç d'aplicar tècniques de regressió en casos reals\n",
    "\n",
    "* Validar els resultats en dades reals\n",
    "\n",
    "* Fomentar la capacitat per presentar resultats tècnics d'aprenentatge computacional de forma adequada davant altres persones\n",
    "\n",
    "\n",
    "### Jupyter Notebook\n",
    "\n",
    "Aquest ``jupyter notebook`` està compost de blocs de text i codi, recordeu que hi ha blocs de codi que depenen de que blocs anteriors hagin estat executats. \n",
    "\n",
    "El codi d'aquest notebook és modificable i us recomanem que feu canvis i en comproveu els resultats.\n",
    "\n",
    "**Per a executar el notebook: cal que instal.leu [jupyter notebook](http://jupyter.readthedocs.io/en/latest/install.html).**\n",
    "\n",
    "\n",
    "### Guia d'instal.lació de les llibreries\n",
    "\n",
    "\n",
    "És molt recomanable que utilitzeu Linux, ja que agilitza la instal.lació de les llibreries. També es recomana utilitzar **Anaconda**, una distribucó de python multiplataforma que permet instal.lar llibreries fàcilment i l'IDE d'spyder o PyCharm.\n",
    "\n",
    "Donat que teniu conda o pypi (pip) (aquest segon es pot instal.lar amb ``apt-get``), heu d'instal.lar els següents paquets (exemple en pypi):\n",
    "\n",
    "```\n",
    "sudo pip install numpy\n",
    "sudo pip install scikit-learn\n",
    "sudo pip install matplotlib\n",
    "sudo pip install scipy\n",
    "```\n",
    "\n",
    "En el cas d'Anaconda, substituir ``sudo pip`` per ``conda``.\n",
    "\n",
    "En el cas del matplotlib, si us dona errors en Ubuntu Linux (`FileNotFoundError: [Errno 2] No such file or directory: 'latex': 'latex'`), cal instal·lar el paquet `texlive-full` (`sudo apt install texlive-full`) que ocupa 3-4GB. Si només ho voleu per aquesta pràctica, podeu provar amb el `textlive-base` (uns 100MB)\n"
   ]
  },
  {
   "cell_type": "markdown",
   "id": "1d49533b",
   "metadata": {},
   "source": [
    "# Apartat (C): Analitzant Dades\n",
    "\n",
    "L'objectiu d'aquest primer apartat serà conèixer la base de dades que es té entre mans. S'han d'analitzar els diferents atributs que la composen, entendre'ls i, si no està estipulat, **caldrà fixar quin es l'atribut objectiu a predir de tots els que hi ha a la base de dades**, justificant el per què de la decisió (és útil i representatiu pel problema, per exemple, donat un conjunt de dades sobre persones: edat, gènere, pes, alçada, risc de patir càncer, aquesta última pot ser justificada com la de més interés). També podeu mirar que l'atribut objectiu tingui valors que canvien. Per exemple, no té sentit predir un atribut on el 99% dels valors són 0, i hi ha algun 1.\n",
    "\n",
    "Ara podeu veure un exemple amb una base de dades **dummy** que creem nosaltres mateixos:"
   ]
  },
  {
   "cell_type": "code",
   "execution_count": 36,
   "id": "340090de",
   "metadata": {
    "scrolled": true
   },
   "outputs": [
    {
     "name": "stdout",
     "output_type": "stream",
     "text": [
      "Dimensionalitat de la BBDD: (388, 12)\n",
      "Dimensionalitat de les entrades X (388, 2)\n",
      "Dimensionalitat de l'atribut Y (388,)\n"
     ]
    }
   ],
   "source": [
    "from sklearn.datasets import make_regression\n",
    "import numpy as np\n",
    "import pandas as pd\n",
    "%matplotlib notebook\n",
    "from matplotlib import pyplot as plt\n",
    "import scipy.stats\n",
    "\n",
    "# Visualitzarem només 3 decimals per mostra\n",
    "pd.set_option('display.float_format', lambda x: '%.3f' % x)\n",
    "\n",
    "# Funcio per a llegir dades en format csv\n",
    "def load_dataset(path):\n",
    "    dataset = pd.read_csv(path, header=0, delimiter=',')\n",
    "    return dataset\n",
    "\n",
    "# Carreguem dataset d'exemple\n",
    "dataset = load_dataset('measurements.csv')\n",
    "data = dataset.values\n",
    "\n",
    "x = data[:, :2]\n",
    "y = data[:, 2]\n",
    "\n",
    "print(\"Dimensionalitat de la BBDD:\", dataset.shape)\n",
    "print(\"Dimensionalitat de les entrades X\", x.shape)\n",
    "print(\"Dimensionalitat de l'atribut Y\", y.shape)"
   ]
  },
  {
   "cell_type": "markdown",
   "id": "189c9735",
   "metadata": {},
   "source": [
    "Algunes bases de dades tenen valors no existents. Numpy els representa amb ``np.nan``. Per a treure'ls, podeu fer: ``dades[np.isnan(dades)] = valor``. Podeu mirar com afecten diferents estratègies d'assignar ``valor``. Per exemple, pot ser 0, la mitja, la mediana, .... També podeu analitzar si hi ha algun atribut perdut (que té molts valors no existents) i valorar si eliminar directament l'atribut.\n",
    "\n",
    "Hi ha vegades que el fitxer .csv utilitza una coma ',' en comptes d'un punt decimal '.', fent que cada atribut sigui considerat com un ``string``. Per tant, a part d'eliminar les files (mostres) que continguin ``NaN``, cal convertir les ',' a '.' per a poder convertir els valors a ``float``.\n",
    "`dtype=object`\n",
    "A més, utilitzeu la llibreria pandas, i no `np.genfromtxt()` ja que llegeix només valors numèrics, i els NaN els converteix a string. Si esteu empenyats en utilitzar `np.genfromtxt()`, caldrà posar-li com a paràmetre "
   ]
  },
  {
   "cell_type": "code",
   "execution_count": 37,
   "id": "7a09049e",
   "metadata": {},
   "outputs": [
    {
     "name": "stdout",
     "output_type": "stream",
     "text": [
      "Per comptar el nombre de valors no existents:\n",
      "distance           0\n",
      "consume            0\n",
      "speed              0\n",
      "temp_inside       12\n",
      "temp_outside       0\n",
      "specials         295\n",
      "gas_type           0\n",
      "AC                 0\n",
      "rain               0\n",
      "sun                0\n",
      "refill liters    375\n",
      "refill gas       375\n",
      "dtype: int64\n"
     ]
    }
   ],
   "source": [
    "print(\"Per comptar el nombre de valors no existents:\")\n",
    "print(dataset.isnull().sum())\n",
    "\n",
    "#Cambiamos el nombre de nuestras columnas para cuando tengamos que tratar con sus datos evitando los espacios en ellos\n",
    "dataset = dataset.rename(columns={\"refill liters\":\"refill_liters\"})\n",
    "dataset = dataset.rename(columns={\"refill gas\":\"refill_gas\"})\n",
    "\n",
    "#Reemplazamos las ',' de nuestras columnas por '.'\n",
    "dataset = dataset.replace(',','.', regex=True)\n",
    "\n",
    "dataset['distance'] = dataset['distance'].astype(float)\n",
    "dataset['consume'] = dataset['consume'].astype(float)\n",
    "dataset['speed'] = dataset['speed'].astype(float)\n",
    "dataset['temp_inside'] = dataset['temp_inside'].astype(float)\n",
    "dataset['temp_outside'] = dataset['temp_outside'].astype(float)"
   ]
  },
  {
   "cell_type": "code",
   "execution_count": 38,
   "id": "80cf3fc7",
   "metadata": {},
   "outputs": [
    {
     "name": "stdout",
     "output_type": "stream",
     "text": [
      "Per visualitzar les primeres 5 mostres de la BBDD:\n"
     ]
    },
    {
     "data": {
      "text/html": [
       "<div>\n",
       "<style scoped>\n",
       "    .dataframe tbody tr th:only-of-type {\n",
       "        vertical-align: middle;\n",
       "    }\n",
       "\n",
       "    .dataframe tbody tr th {\n",
       "        vertical-align: top;\n",
       "    }\n",
       "\n",
       "    .dataframe thead th {\n",
       "        text-align: right;\n",
       "    }\n",
       "</style>\n",
       "<table border=\"1\" class=\"dataframe\">\n",
       "  <thead>\n",
       "    <tr style=\"text-align: right;\">\n",
       "      <th></th>\n",
       "      <th>distance</th>\n",
       "      <th>consume</th>\n",
       "      <th>speed</th>\n",
       "      <th>temp_inside</th>\n",
       "      <th>temp_outside</th>\n",
       "      <th>specials</th>\n",
       "      <th>gas_type</th>\n",
       "      <th>AC</th>\n",
       "      <th>rain</th>\n",
       "      <th>sun</th>\n",
       "      <th>refill_liters</th>\n",
       "      <th>refill_gas</th>\n",
       "    </tr>\n",
       "  </thead>\n",
       "  <tbody>\n",
       "    <tr>\n",
       "      <th>0</th>\n",
       "      <td>28.000</td>\n",
       "      <td>5.000</td>\n",
       "      <td>26.000</td>\n",
       "      <td>21.500</td>\n",
       "      <td>12.000</td>\n",
       "      <td>NaN</td>\n",
       "      <td>E10</td>\n",
       "      <td>0</td>\n",
       "      <td>0</td>\n",
       "      <td>0</td>\n",
       "      <td>45</td>\n",
       "      <td>E10</td>\n",
       "    </tr>\n",
       "    <tr>\n",
       "      <th>1</th>\n",
       "      <td>12.000</td>\n",
       "      <td>4.200</td>\n",
       "      <td>30.000</td>\n",
       "      <td>21.500</td>\n",
       "      <td>13.000</td>\n",
       "      <td>NaN</td>\n",
       "      <td>E10</td>\n",
       "      <td>0</td>\n",
       "      <td>0</td>\n",
       "      <td>0</td>\n",
       "      <td>NaN</td>\n",
       "      <td>NaN</td>\n",
       "    </tr>\n",
       "    <tr>\n",
       "      <th>2</th>\n",
       "      <td>11.200</td>\n",
       "      <td>5.500</td>\n",
       "      <td>38.000</td>\n",
       "      <td>21.500</td>\n",
       "      <td>15.000</td>\n",
       "      <td>NaN</td>\n",
       "      <td>E10</td>\n",
       "      <td>0</td>\n",
       "      <td>0</td>\n",
       "      <td>0</td>\n",
       "      <td>NaN</td>\n",
       "      <td>NaN</td>\n",
       "    </tr>\n",
       "    <tr>\n",
       "      <th>3</th>\n",
       "      <td>12.900</td>\n",
       "      <td>3.900</td>\n",
       "      <td>36.000</td>\n",
       "      <td>21.500</td>\n",
       "      <td>14.000</td>\n",
       "      <td>NaN</td>\n",
       "      <td>E10</td>\n",
       "      <td>0</td>\n",
       "      <td>0</td>\n",
       "      <td>0</td>\n",
       "      <td>NaN</td>\n",
       "      <td>NaN</td>\n",
       "    </tr>\n",
       "    <tr>\n",
       "      <th>4</th>\n",
       "      <td>18.500</td>\n",
       "      <td>4.500</td>\n",
       "      <td>46.000</td>\n",
       "      <td>21.500</td>\n",
       "      <td>15.000</td>\n",
       "      <td>NaN</td>\n",
       "      <td>E10</td>\n",
       "      <td>0</td>\n",
       "      <td>0</td>\n",
       "      <td>0</td>\n",
       "      <td>NaN</td>\n",
       "      <td>NaN</td>\n",
       "    </tr>\n",
       "  </tbody>\n",
       "</table>\n",
       "</div>"
      ],
      "text/plain": [
       "   distance  consume  speed  temp_inside  temp_outside specials gas_type  AC  \\\n",
       "0    28.000    5.000 26.000       21.500        12.000      NaN      E10   0   \n",
       "1    12.000    4.200 30.000       21.500        13.000      NaN      E10   0   \n",
       "2    11.200    5.500 38.000       21.500        15.000      NaN      E10   0   \n",
       "3    12.900    3.900 36.000       21.500        14.000      NaN      E10   0   \n",
       "4    18.500    4.500 46.000       21.500        15.000      NaN      E10   0   \n",
       "\n",
       "   rain  sun refill_liters refill_gas  \n",
       "0     0    0            45        E10  \n",
       "1     0    0           NaN        NaN  \n",
       "2     0    0           NaN        NaN  \n",
       "3     0    0           NaN        NaN  \n",
       "4     0    0           NaN        NaN  "
      ]
     },
     "execution_count": 38,
     "metadata": {},
     "output_type": "execute_result"
    }
   ],
   "source": [
    "print(\"Per visualitzar les primeres 5 mostres de la BBDD:\")\n",
    "dataset.head() "
   ]
  },
  {
   "cell_type": "markdown",
   "id": "b553fc9f",
   "metadata": {},
   "source": [
    "Mostrarem diferents càlculs amb les nostres dades, entre ells el màxim, minim, desviació standard...  \n",
    "Primerament realitzarem una copia del nostre dataset per a tractar les dades, una vegada tenim la copia reemplacem les comes (',') que hi ha a les nostres columnes per punts ('.') per tal de poder assignar el tipus float que volem als seus valors.  \n",
    "I mostrarem els càlculs que realitza la funció de la llibreria pandas `pd.describe()`."
   ]
  },
  {
   "cell_type": "code",
   "execution_count": 39,
   "id": "68b2afa6",
   "metadata": {
    "scrolled": false
   },
   "outputs": [
    {
     "name": "stdout",
     "output_type": "stream",
     "text": [
      "Per veure estadístiques dels atributs numèrics de la BBDD:\n"
     ]
    },
    {
     "data": {
      "text/html": [
       "<div>\n",
       "<style scoped>\n",
       "    .dataframe tbody tr th:only-of-type {\n",
       "        vertical-align: middle;\n",
       "    }\n",
       "\n",
       "    .dataframe tbody tr th {\n",
       "        vertical-align: top;\n",
       "    }\n",
       "\n",
       "    .dataframe thead th {\n",
       "        text-align: right;\n",
       "    }\n",
       "</style>\n",
       "<table border=\"1\" class=\"dataframe\">\n",
       "  <thead>\n",
       "    <tr style=\"text-align: right;\">\n",
       "      <th></th>\n",
       "      <th>distance</th>\n",
       "      <th>consume</th>\n",
       "      <th>speed</th>\n",
       "      <th>temp_inside</th>\n",
       "      <th>temp_outside</th>\n",
       "      <th>AC</th>\n",
       "      <th>rain</th>\n",
       "      <th>sun</th>\n",
       "    </tr>\n",
       "  </thead>\n",
       "  <tbody>\n",
       "    <tr>\n",
       "      <th>count</th>\n",
       "      <td>388.000</td>\n",
       "      <td>388.000</td>\n",
       "      <td>388.000</td>\n",
       "      <td>376.000</td>\n",
       "      <td>388.000</td>\n",
       "      <td>388.000</td>\n",
       "      <td>388.000</td>\n",
       "      <td>388.000</td>\n",
       "    </tr>\n",
       "    <tr>\n",
       "      <th>mean</th>\n",
       "      <td>19.653</td>\n",
       "      <td>4.912</td>\n",
       "      <td>41.928</td>\n",
       "      <td>21.930</td>\n",
       "      <td>11.358</td>\n",
       "      <td>0.077</td>\n",
       "      <td>0.124</td>\n",
       "      <td>0.082</td>\n",
       "    </tr>\n",
       "    <tr>\n",
       "      <th>std</th>\n",
       "      <td>22.668</td>\n",
       "      <td>1.033</td>\n",
       "      <td>13.599</td>\n",
       "      <td>1.010</td>\n",
       "      <td>6.992</td>\n",
       "      <td>0.267</td>\n",
       "      <td>0.330</td>\n",
       "      <td>0.275</td>\n",
       "    </tr>\n",
       "    <tr>\n",
       "      <th>min</th>\n",
       "      <td>1.300</td>\n",
       "      <td>3.300</td>\n",
       "      <td>14.000</td>\n",
       "      <td>19.000</td>\n",
       "      <td>-5.000</td>\n",
       "      <td>0.000</td>\n",
       "      <td>0.000</td>\n",
       "      <td>0.000</td>\n",
       "    </tr>\n",
       "    <tr>\n",
       "      <th>25%</th>\n",
       "      <td>11.800</td>\n",
       "      <td>4.300</td>\n",
       "      <td>32.750</td>\n",
       "      <td>21.500</td>\n",
       "      <td>7.000</td>\n",
       "      <td>0.000</td>\n",
       "      <td>0.000</td>\n",
       "      <td>0.000</td>\n",
       "    </tr>\n",
       "    <tr>\n",
       "      <th>50%</th>\n",
       "      <td>14.600</td>\n",
       "      <td>4.700</td>\n",
       "      <td>40.500</td>\n",
       "      <td>22.000</td>\n",
       "      <td>10.000</td>\n",
       "      <td>0.000</td>\n",
       "      <td>0.000</td>\n",
       "      <td>0.000</td>\n",
       "    </tr>\n",
       "    <tr>\n",
       "      <th>75%</th>\n",
       "      <td>19.000</td>\n",
       "      <td>5.300</td>\n",
       "      <td>50.000</td>\n",
       "      <td>22.500</td>\n",
       "      <td>16.000</td>\n",
       "      <td>0.000</td>\n",
       "      <td>0.000</td>\n",
       "      <td>0.000</td>\n",
       "    </tr>\n",
       "    <tr>\n",
       "      <th>max</th>\n",
       "      <td>216.100</td>\n",
       "      <td>12.200</td>\n",
       "      <td>90.000</td>\n",
       "      <td>25.500</td>\n",
       "      <td>31.000</td>\n",
       "      <td>1.000</td>\n",
       "      <td>1.000</td>\n",
       "      <td>1.000</td>\n",
       "    </tr>\n",
       "  </tbody>\n",
       "</table>\n",
       "</div>"
      ],
      "text/plain": [
       "       distance  consume   speed  temp_inside  temp_outside      AC    rain  \\\n",
       "count   388.000  388.000 388.000      376.000       388.000 388.000 388.000   \n",
       "mean     19.653    4.912  41.928       21.930        11.358   0.077   0.124   \n",
       "std      22.668    1.033  13.599        1.010         6.992   0.267   0.330   \n",
       "min       1.300    3.300  14.000       19.000        -5.000   0.000   0.000   \n",
       "25%      11.800    4.300  32.750       21.500         7.000   0.000   0.000   \n",
       "50%      14.600    4.700  40.500       22.000        10.000   0.000   0.000   \n",
       "75%      19.000    5.300  50.000       22.500        16.000   0.000   0.000   \n",
       "max     216.100   12.200  90.000       25.500        31.000   1.000   1.000   \n",
       "\n",
       "          sun  \n",
       "count 388.000  \n",
       "mean    0.082  \n",
       "std     0.275  \n",
       "min     0.000  \n",
       "25%     0.000  \n",
       "50%     0.000  \n",
       "75%     0.000  \n",
       "max     1.000  "
      ]
     },
     "execution_count": 39,
     "metadata": {},
     "output_type": "execute_result"
    }
   ],
   "source": [
    "print(\"Per veure estadístiques dels atributs numèrics de la BBDD:\")\n",
    "dataset.describe()"
   ]
  },
  {
   "cell_type": "markdown",
   "id": "43a42967",
   "metadata": {},
   "source": [
    "#### Calculem la T-Statistic\n",
    "Amb aquest càlcul podrem analitzar quins atributs tenen més correlació amb el consum del cotxe"
   ]
  },
  {
   "cell_type": "markdown",
   "id": "76f717b8",
   "metadata": {},
   "source": [
    "Com podem veure en les nostres dades els atributs 'temp_inside', 'specials', 'refill_liters' i 'refill_gas' contenen valors NaN per tant comprobarem quin valors diferents tenen."
   ]
  },
  {
   "cell_type": "code",
   "execution_count": 63,
   "id": "4139ae8c",
   "metadata": {
    "scrolled": true
   },
   "outputs": [
    {
     "name": "stdout",
     "output_type": "stream",
     "text": [
      "Valors unics temp_inside:  [21.5 22.5 20.   nan 21.  20.5 23.  23.5 25.  24.  22.  19.  24.5 25.5] \n",
      "\n",
      "Valors unics specials:  [nan 'AC rain' 'AC' 'rain' 'snow' 'AC snow' 'half rain half sun' 'sun'\n",
      " 'AC sun' 'sun ac' 'ac' 'AC Sun' 'ac rain'] \n",
      "\n",
      "Valors unics refill_liters:  ['45' nan '37.6' '37.7' '38' '38.3' '10' '39' '41' '37' '37.2'] \n",
      "\n",
      "Valors unics refill_gas:  ['E10' nan 'SP98'] \n",
      "\n"
     ]
    }
   ],
   "source": [
    "#Realizamos una copia de la base de datos para no generar posibles cambios\n",
    "df = dataset.copy(deep=True)\n",
    "print(\"Valors unics temp_inside: \", df['temp_inside'].unique(), \"\\n\")\n",
    "print(\"Valors unics specials: \", df['specials'].unique(), \"\\n\")\n",
    "print(\"Valors unics refill_liters: \", df['refill_liters'].unique(), \"\\n\")\n",
    "print(\"Valors unics refill_gas: \", df['refill_gas'].unique(), \"\\n\")"
   ]
  },
  {
   "cell_type": "markdown",
   "id": "b7d078c7",
   "metadata": {},
   "source": [
    "Com podem veure per al cas del 'temp_inside' podem substituïr els valors nan per la mitjana dels seus altres valors i obtenir un cas més adequat per als seus valors.  \n",
    "En el cas dels 'specials' aquests valors es poden veure reflexats en altres atributs i al tenir una quantitat tant elevada de valors nan ens podem desfer d'ells.\n",
    "Per als atributs de refill podem observar que la quantitat de valors nan és massa elevada com per a tenir en compte aquells que no ho són per tant directament eliminarem els camps de la nostra base de dades."
   ]
  },
  {
   "cell_type": "code",
   "execution_count": 64,
   "id": "f88a64aa",
   "metadata": {
    "scrolled": false
   },
   "outputs": [
    {
     "name": "stdout",
     "output_type": "stream",
     "text": [
      "Nan en la nueva base de datos:\n",
      " distance        0\n",
      "consume         0\n",
      "speed           0\n",
      "temp_inside     0\n",
      "temp_outside    0\n",
      "gas_type        0\n",
      "AC              0\n",
      "rain            0\n",
      "sun             0\n",
      "dtype: int64 \n",
      "\n",
      "   distance  consume  speed  temp_inside  temp_outside gas_type  AC  rain  sun\n",
      "0    28.000    5.000 26.000       21.500        12.000      E10   0     0    0\n",
      "1    12.000    4.200 30.000       21.500        13.000      E10   0     0    0\n",
      "2    11.200    5.500 38.000       21.500        15.000      E10   0     0    0\n",
      "3    12.900    3.900 36.000       21.500        14.000      E10   0     0    0\n",
      "4    18.500    4.500 46.000       21.500        15.000      E10   0     0    0\n"
     ]
    }
   ],
   "source": [
    "#Eliminem les columnes comentades anteriorment\n",
    "df.drop(['specials'], inplace=True, axis=1)\n",
    "df.drop(['refill_liters'], inplace=True, axis=1)\n",
    "df.drop(['refill_gas'], inplace=True, axis=1)\n",
    "\n",
    "#Substituïm els valors de temp_inside\n",
    "df['temp_inside'] = df['temp_inside'].fillna(df['temp_inside'].mean())\n",
    "print(\"Nan en la nueva base de datos:\\n\",df.isnull().sum(), \"\\n\")\n",
    "print(df.head())"
   ]
  },
  {
   "cell_type": "code",
   "execution_count": 42,
   "id": "bf108cd5",
   "metadata": {
    "scrolled": false
   },
   "outputs": [],
   "source": [
    "import seaborn as sns\n",
    "\n",
    "#ax = sns.pairplot(df, height=1.25)"
   ]
  },
  {
   "cell_type": "markdown",
   "id": "edbd9a1e",
   "metadata": {},
   "source": [
    "#### Distribució consum gasolina"
   ]
  },
  {
   "cell_type": "code",
   "execution_count": 46,
   "id": "cb68e97f",
   "metadata": {
    "scrolled": false
   },
   "outputs": [],
   "source": [
    "#plt.figure() -----------------------------------\n",
    "#df['consume'].plot.hist(bins=25,figsize=(8,4)) ------------------------------------------\n",
    "#plt.show() -------------------------------------"
   ]
  },
  {
   "cell_type": "code",
   "execution_count": 47,
   "id": "ce2deadd",
   "metadata": {},
   "outputs": [],
   "source": [
    "#plt.figure()\n",
    "#df['consume'].plot.density()\n",
    "#plt.show()"
   ]
  },
  {
   "cell_type": "markdown",
   "id": "5a859c04",
   "metadata": {},
   "source": [
    "#### Distribució distància recorreguda"
   ]
  },
  {
   "cell_type": "code",
   "execution_count": 48,
   "id": "0938d495",
   "metadata": {
    "scrolled": false
   },
   "outputs": [],
   "source": [
    "#plt.figure()\n",
    "#df['distance'].plot.hist(bins=25,figsize=(8,4))\n",
    "#plt.show()"
   ]
  },
  {
   "cell_type": "code",
   "execution_count": 49,
   "id": "06cd4f15",
   "metadata": {},
   "outputs": [],
   "source": [
    "#plt.figure()\n",
    "#df['distance'].plot.density()\n",
    "#plt.show()"
   ]
  },
  {
   "cell_type": "markdown",
   "id": "7167cdb6",
   "metadata": {},
   "source": [
    "## Retallem les nostres dades"
   ]
  },
  {
   "cell_type": "markdown",
   "id": "cbaa84d0",
   "metadata": {},
   "source": [
    "Eliminem aquells casos en els quals algun dels seus valors de distància o consum són exagerats ja que com podem observar la dispersió dels seus valors pot produir incomprensions en les distribucions"
   ]
  },
  {
   "cell_type": "code",
   "execution_count": 65,
   "id": "30093641",
   "metadata": {
    "scrolled": false
   },
   "outputs": [],
   "source": [
    "df_valores_agrupados = df.copy(deep=True)\n",
    "df_valores_agrupados = df_valores_agrupados.loc[(df_valores_agrupados['consume'] <= 5.30) & (df_valores_agrupados['distance'] <= 28.30)]\n",
    "\n",
    "#ax = sns.pairplot(df_valores_agrupados, height=1.25)"
   ]
  },
  {
   "cell_type": "markdown",
   "id": "248b15ad",
   "metadata": {},
   "source": [
    "### Matriu de correlació entre les nostres dades inicials"
   ]
  },
  {
   "cell_type": "code",
   "execution_count": 66,
   "id": "58d50b77",
   "metadata": {
    "scrolled": false
   },
   "outputs": [],
   "source": [
    "# Mirem la correlació entre els atributs d'entrada per entendre millor les dades\n",
    "correlacio = df.corr()\n",
    "\n",
    "#plt.figure() -----------------------------------\n",
    "#sns.set(font_scale=.75)\n",
    "#ax = sns.heatmap(correlacio, annot=True, linewidths=.5)\n",
    "#ax.set_title(\"Matriu de correlació general\")"
   ]
  },
  {
   "cell_type": "markdown",
   "id": "756910b8",
   "metadata": {},
   "source": [
    "Quina seria la nostra matriu de correlació segons el tipus de gasolina que tenim? Té alguna infuéncia en els valors?"
   ]
  },
  {
   "cell_type": "code",
   "execution_count": 67,
   "id": "41538391",
   "metadata": {},
   "outputs": [
    {
     "name": "stdout",
     "output_type": "stream",
     "text": [
      "['E10' 'SP98']\n"
     ]
    }
   ],
   "source": [
    "#Que tipos de gasolina tenemos\n",
    "print(dataset['gas_type'].unique())"
   ]
  },
  {
   "cell_type": "markdown",
   "id": "0495df3c",
   "metadata": {},
   "source": [
    "Una vegada sabem els tipus de gasolina que tenim, separem la base de dades en dos subgrups depenent del seu tipus."
   ]
  },
  {
   "cell_type": "code",
   "execution_count": 68,
   "id": "d16c2085",
   "metadata": {
    "scrolled": false
   },
   "outputs": [
    {
     "name": "stdout",
     "output_type": "stream",
     "text": [
      "\u001b[1mValors Gasolina E10: \u001b[0m\n",
      "\n",
      "       distance  consume   speed  temp_inside  temp_outside      AC    rain     sun\n",
      "count   160.000  160.000 160.000      160.000       160.000 160.000 160.000 160.000\n",
      "mean     21.096    4.931  43.506       21.917        10.119   0.044   0.100   0.075\n",
      "std      20.307    0.901  14.078        0.654         6.392   0.205   0.301   0.264\n",
      "min       1.700    3.700  14.000       21.000        -5.000   0.000   0.000   0.000\n",
      "25%      12.075    4.400  35.000       21.500         6.000   0.000   0.000   0.000\n",
      "50%      15.400    4.800  42.000       21.500         9.000   0.000   0.000   0.000\n",
      "75%      21.200    5.300  51.000       22.500        14.250   0.000   0.000   0.000\n",
      "max     130.300   10.800  88.000       25.000        27.000   1.000   1.000   1.000\n",
      "\n",
      "\n",
      "\u001b[1mValors Gasolina SP98: \u001b[0m\n",
      "\n",
      "       distance  consume   speed  temp_inside  temp_outside      AC    rain     sun\n",
      "count   228.000  228.000 228.000      228.000       228.000 228.000 228.000 228.000\n",
      "mean     18.640    4.899  40.820       21.938        12.228   0.101   0.140   0.088\n",
      "std      24.180    1.118  13.170        1.178         7.271   0.302   0.348   0.284\n",
      "min       1.300    3.300  16.000       19.000        -3.000   0.000   0.000   0.000\n",
      "25%      11.800    4.200  32.000       21.500         7.000   0.000   0.000   0.000\n",
      "50%      14.150    4.700  39.500       22.000        11.000   0.000   0.000   0.000\n",
      "75%      18.150    5.225  48.000       22.000        17.000   0.000   0.000   0.000\n",
      "max     216.100   12.200  90.000       25.500        31.000   1.000   1.000   1.000\n",
      "\n",
      "\n"
     ]
    }
   ],
   "source": [
    "#Instrucción para que el display del describe se haga en una sola línea\n",
    "pd.set_option('display.width', 1000)\n",
    "\n",
    "#Gasolina E10\n",
    "print(\"\\033[1mValors Gasolina E10: \\033[0m\\n\")\n",
    "df_E10 = df.copy()\n",
    "df_E10 = df_E10.loc[df_E10['gas_type'] == 'E10']\n",
    "df_E10.drop(['gas_type'], inplace=True, axis=1)\n",
    "print(df_E10.describe())\n",
    "print(\"\\n\")\n",
    "#Gasolina SP98\n",
    "print(\"\\033[1mValors Gasolina SP98: \\033[0m\\n\")\n",
    "df_SP98 = df.copy()\n",
    "df_SP98 = df_SP98.loc[df_SP98['gas_type'] == 'SP98']\n",
    "df_SP98.drop(['gas_type'], inplace=True, axis=1)\n",
    "print(df_SP98.describe())\n",
    "print(\"\\n\")\n",
    "\n",
    "#Devolvemos la opción del display a su valor natural\n",
    "pd.set_option('display.width', None)"
   ]
  },
  {
   "cell_type": "markdown",
   "id": "7b861a47",
   "metadata": {},
   "source": [
    "Quants cotxes tenim per a cada tipus de gasolina?"
   ]
  },
  {
   "cell_type": "code",
   "execution_count": 69,
   "id": "5ceccb40",
   "metadata": {
    "scrolled": true
   },
   "outputs": [
    {
     "name": "stdout",
     "output_type": "stream",
     "text": [
      "Cotxes gasolina E10:  160\n",
      "\n",
      "Cotxes gasolina sp98:  228\n"
     ]
    }
   ],
   "source": [
    "print(\"Cotxes gasolina E10: \", df_E10.shape[0])\n",
    "print(\"\\nCotxes gasolina sp98: \", df_SP98.shape[0])"
   ]
  },
  {
   "cell_type": "code",
   "execution_count": 70,
   "id": "fdd22e36",
   "metadata": {},
   "outputs": [],
   "source": [
    "#sns.set(font_scale=.75)\n",
    "\n",
    "#plt.figure()\n",
    "#correlacio_E10 = df_E10.corr()\n",
    "#ax1 = sns.heatmap(correlacio_E10, annot=True, linewidths=.5, )\n",
    "#ax1.set_title(\"Matriu de correlació gasolina E10\")\n",
    "#plt.show()\n",
    "\n",
    "\n",
    "#plt.figure()\n",
    "#correlacio_SP98 = df_SP98.corr()\n",
    "#ax2 = sns.heatmap(correlacio_SP98, annot=True, linewidths=.5)\n",
    "#ax2.set_title(\"Matriu de correlació gasolina SP98\")\n",
    "#plt.show()\n"
   ]
  },
  {
   "cell_type": "markdown",
   "id": "df1e0b96",
   "metadata": {},
   "source": [
    "Així doncs ara podreu respondre a les següents preguntes:\n",
    "\n",
    "1. Quin és el tipus de cada atribut? \n",
    "2. Quins atributs tenen una distribució Guassiana?\n",
    "3. Quin és l'atribut objectiu? Per què?"
   ]
  },
  {
   "cell_type": "markdown",
   "id": "59d6ce2a",
   "metadata": {},
   "source": [
    "# Apartat (B): Primeres regressions\n",
    "\n",
    "Per a aquest primer apartat es calcularà l'error quadràtic mitjà només del regressor per a cada un dels atributs de la base de dades, determinant aquell atribut pel qual l'error quadràtic mitjà (entre el valor predit i el real, per a cada mostra) és més baix. \n",
    "\n",
    "A continuació se us dona una funció auxiliar per a calcular l'error quadràtic mitjà:"
   ]
  },
  {
   "cell_type": "code",
   "execution_count": 71,
   "id": "3da938c6",
   "metadata": {},
   "outputs": [
    {
     "data": {
      "text/plain": [
       "1.0"
      ]
     },
     "execution_count": 71,
     "metadata": {},
     "output_type": "execute_result"
    }
   ],
   "source": [
    "import math\n",
    "\n",
    "def mean_squeared_error(y1, y2):\n",
    "    # comprovem que y1 i y2 tenen la mateixa mida\n",
    "    assert(len(y1) == len(y2))\n",
    "    mse = 0\n",
    "    for i in range(len(y1)):\n",
    "        mse += (y1[i] - y2[i])**2\n",
    "    return mse / len(y1)\n",
    "\n",
    "mean_squeared_error([1,2,3,4], [1,2,1,4])"
   ]
  },
  {
   "cell_type": "markdown",
   "id": "f41b919f",
   "metadata": {},
   "source": [
    "**Dividim la nostra base de dades entre train i test**"
   ]
  },
  {
   "cell_type": "code",
   "execution_count": 72,
   "id": "424c4b26",
   "metadata": {},
   "outputs": [],
   "source": [
    "label_columns = list(df.columns)\n",
    "len_feature = len(label_columns)"
   ]
  },
  {
   "cell_type": "markdown",
   "id": "766a5556",
   "metadata": {},
   "source": [
    "**Posem tots los valors a X_df menys strings i el consum i a Y_df posem el preu**"
   ]
  },
  {
   "cell_type": "code",
   "execution_count": 73,
   "id": "e5964892",
   "metadata": {},
   "outputs": [
    {
     "name": "stdout",
     "output_type": "stream",
     "text": [
      "Feature set size: (388, 7)\n",
      "Variable set size: (388,)\n"
     ]
    }
   ],
   "source": [
    "#_______________________________\n",
    "# X_df creo que tendría que quitar los valores binarios de ser así en su primer cálculo poner [0:len_feature-3]\n",
    "#______________________________\n",
    "X_df = df[label_columns[0:len_feature]]\n",
    "X_df = X_df.drop('gas_type', axis=1)\n",
    "X_df = X_df.drop('consume', axis=1)\n",
    "Y_df = df[label_columns[1]]\n",
    "print(\"Feature set size:\",X_df.shape)\n",
    "print(\"Variable set size:\",Y_df.shape)"
   ]
  },
  {
   "cell_type": "code",
   "execution_count": 74,
   "id": "51885a0e",
   "metadata": {},
   "outputs": [
    {
     "data": {
      "text/html": [
       "<div>\n",
       "<style scoped>\n",
       "    .dataframe tbody tr th:only-of-type {\n",
       "        vertical-align: middle;\n",
       "    }\n",
       "\n",
       "    .dataframe tbody tr th {\n",
       "        vertical-align: top;\n",
       "    }\n",
       "\n",
       "    .dataframe thead th {\n",
       "        text-align: right;\n",
       "    }\n",
       "</style>\n",
       "<table border=\"1\" class=\"dataframe\">\n",
       "  <thead>\n",
       "    <tr style=\"text-align: right;\">\n",
       "      <th></th>\n",
       "      <th>distance</th>\n",
       "      <th>speed</th>\n",
       "      <th>temp_inside</th>\n",
       "      <th>temp_outside</th>\n",
       "      <th>AC</th>\n",
       "      <th>rain</th>\n",
       "      <th>sun</th>\n",
       "    </tr>\n",
       "  </thead>\n",
       "  <tbody>\n",
       "    <tr>\n",
       "      <th>0</th>\n",
       "      <td>28.000</td>\n",
       "      <td>26.000</td>\n",
       "      <td>21.500</td>\n",
       "      <td>12.000</td>\n",
       "      <td>0</td>\n",
       "      <td>0</td>\n",
       "      <td>0</td>\n",
       "    </tr>\n",
       "    <tr>\n",
       "      <th>1</th>\n",
       "      <td>12.000</td>\n",
       "      <td>30.000</td>\n",
       "      <td>21.500</td>\n",
       "      <td>13.000</td>\n",
       "      <td>0</td>\n",
       "      <td>0</td>\n",
       "      <td>0</td>\n",
       "    </tr>\n",
       "    <tr>\n",
       "      <th>2</th>\n",
       "      <td>11.200</td>\n",
       "      <td>38.000</td>\n",
       "      <td>21.500</td>\n",
       "      <td>15.000</td>\n",
       "      <td>0</td>\n",
       "      <td>0</td>\n",
       "      <td>0</td>\n",
       "    </tr>\n",
       "    <tr>\n",
       "      <th>3</th>\n",
       "      <td>12.900</td>\n",
       "      <td>36.000</td>\n",
       "      <td>21.500</td>\n",
       "      <td>14.000</td>\n",
       "      <td>0</td>\n",
       "      <td>0</td>\n",
       "      <td>0</td>\n",
       "    </tr>\n",
       "    <tr>\n",
       "      <th>4</th>\n",
       "      <td>18.500</td>\n",
       "      <td>46.000</td>\n",
       "      <td>21.500</td>\n",
       "      <td>15.000</td>\n",
       "      <td>0</td>\n",
       "      <td>0</td>\n",
       "      <td>0</td>\n",
       "    </tr>\n",
       "  </tbody>\n",
       "</table>\n",
       "</div>"
      ],
      "text/plain": [
       "   distance  speed  temp_inside  temp_outside  AC  rain  sun\n",
       "0    28.000 26.000       21.500        12.000   0     0    0\n",
       "1    12.000 30.000       21.500        13.000   0     0    0\n",
       "2    11.200 38.000       21.500        15.000   0     0    0\n",
       "3    12.900 36.000       21.500        14.000   0     0    0\n",
       "4    18.500 46.000       21.500        15.000   0     0    0"
      ]
     },
     "execution_count": 74,
     "metadata": {},
     "output_type": "execute_result"
    }
   ],
   "source": [
    "X_df.head()"
   ]
  },
  {
   "cell_type": "code",
   "execution_count": 75,
   "id": "6bdf3a08",
   "metadata": {
    "scrolled": true
   },
   "outputs": [
    {
     "data": {
      "text/plain": [
       "0   5.000\n",
       "1   4.200\n",
       "2   5.500\n",
       "3   3.900\n",
       "4   4.500\n",
       "Name: consume, dtype: float64"
      ]
     },
     "execution_count": 75,
     "metadata": {},
     "output_type": "execute_result"
    }
   ],
   "source": [
    "Y_df.head()"
   ]
  },
  {
   "cell_type": "markdown",
   "id": "8c9e6d1d",
   "metadata": {},
   "source": [
    "### Separem train y test"
   ]
  },
  {
   "cell_type": "markdown",
   "id": "32c67e40",
   "metadata": {},
   "source": [
    "**Utilitzem la funció `train_test_split` de la llibreria `sklearn`**"
   ]
  },
  {
   "cell_type": "code",
   "execution_count": 76,
   "id": "e14f9882",
   "metadata": {},
   "outputs": [],
   "source": [
    "from sklearn.model_selection import train_test_split\n",
    "#Creamos las variables y las separaciones en una sola línea de comando\n",
    "X_train, X_test, y_train, y_test = train_test_split(X_df, Y_df, test_size=0.3, random_state=123)"
   ]
  },
  {
   "cell_type": "markdown",
   "id": "5d65f47c",
   "metadata": {},
   "source": [
    "**Comprovem els tamanys de les nostres variables test i train**"
   ]
  },
  {
   "cell_type": "code",
   "execution_count": 77,
   "id": "f10f89ad",
   "metadata": {},
   "outputs": [
    {
     "name": "stdout",
     "output_type": "stream",
     "text": [
      "Tamany X training:\t (271, 7)\n",
      "Tamany X test:\t\t (117, 7)\n",
      "Tamany Y training:\t (271,)\n",
      "Tamany Y test:\t\t (117,)\n"
     ]
    }
   ],
   "source": [
    "print(\"Tamany X training:\\t\",X_train.shape)\n",
    "print(\"Tamany X test:\\t\\t\",X_test.shape)\n",
    "print(\"Tamany Y training:\\t\",y_train.shape)\n",
    "print(\"Tamany Y test:\\t\\t\",y_test.shape)"
   ]
  },
  {
   "cell_type": "markdown",
   "id": "52420ddd",
   "metadata": {},
   "source": [
    "### Entrenar les dades del training"
   ]
  },
  {
   "cell_type": "code",
   "execution_count": 78,
   "id": "353f2f1e",
   "metadata": {},
   "outputs": [],
   "source": [
    "from sklearn.linear_model import LinearRegression\n",
    "from sklearn import metrics\n",
    "\n",
    "lr = LinearRegression()"
   ]
  },
  {
   "cell_type": "markdown",
   "id": "ecfdada1",
   "metadata": {},
   "source": [
    "**Entrenem el model amb les dades inicialitzades**"
   ]
  },
  {
   "cell_type": "code",
   "execution_count": 79,
   "id": "70fbffee",
   "metadata": {},
   "outputs": [
    {
     "data": {
      "text/plain": [
       "LinearRegression()"
      ]
     },
     "execution_count": 79,
     "metadata": {},
     "output_type": "execute_result"
    }
   ],
   "source": [
    "lr.fit(X_train,y_train)"
   ]
  },
  {
   "cell_type": "markdown",
   "id": "4c58bc88",
   "metadata": {},
   "source": [
    "**Comprovem l'intercepció i els coeficients del nostre model i els posem a la base de dades**"
   ]
  },
  {
   "cell_type": "code",
   "execution_count": 80,
   "id": "2c658851",
   "metadata": {},
   "outputs": [
    {
     "name": "stdout",
     "output_type": "stream",
     "text": [
      "Intercepció del model lineal: 7.816443088772434\n",
      "\n",
      "Coeficients del model lineal: [ 0.0048328  -0.02469856 -0.07403904 -0.0415086   0.61871167  0.55579491\n",
      " -0.15900624]\n"
     ]
    }
   ],
   "source": [
    "print(\"Intercepció del model lineal:\", lr.intercept_)\n",
    "print(\"\\nCoeficients del model lineal:\", lr.coef_)"
   ]
  },
  {
   "cell_type": "code",
   "execution_count": 81,
   "id": "e12c3857",
   "metadata": {},
   "outputs": [
    {
     "data": {
      "text/html": [
       "<div>\n",
       "<style scoped>\n",
       "    .dataframe tbody tr th:only-of-type {\n",
       "        vertical-align: middle;\n",
       "    }\n",
       "\n",
       "    .dataframe tbody tr th {\n",
       "        vertical-align: top;\n",
       "    }\n",
       "\n",
       "    .dataframe thead th {\n",
       "        text-align: right;\n",
       "    }\n",
       "</style>\n",
       "<table border=\"1\" class=\"dataframe\">\n",
       "  <thead>\n",
       "    <tr style=\"text-align: right;\">\n",
       "      <th></th>\n",
       "      <th>Coeficients</th>\n",
       "    </tr>\n",
       "  </thead>\n",
       "  <tbody>\n",
       "    <tr>\n",
       "      <th>distance</th>\n",
       "      <td>0.005</td>\n",
       "    </tr>\n",
       "    <tr>\n",
       "      <th>speed</th>\n",
       "      <td>-0.025</td>\n",
       "    </tr>\n",
       "    <tr>\n",
       "      <th>temp_inside</th>\n",
       "      <td>-0.074</td>\n",
       "    </tr>\n",
       "    <tr>\n",
       "      <th>temp_outside</th>\n",
       "      <td>-0.042</td>\n",
       "    </tr>\n",
       "    <tr>\n",
       "      <th>AC</th>\n",
       "      <td>0.619</td>\n",
       "    </tr>\n",
       "    <tr>\n",
       "      <th>rain</th>\n",
       "      <td>0.556</td>\n",
       "    </tr>\n",
       "    <tr>\n",
       "      <th>sun</th>\n",
       "      <td>-0.159</td>\n",
       "    </tr>\n",
       "  </tbody>\n",
       "</table>\n",
       "</div>"
      ],
      "text/plain": [
       "              Coeficients\n",
       "distance            0.005\n",
       "speed              -0.025\n",
       "temp_inside        -0.074\n",
       "temp_outside       -0.042\n",
       "AC                  0.619\n",
       "rain                0.556\n",
       "sun                -0.159"
      ]
     },
     "execution_count": 81,
     "metadata": {},
     "output_type": "execute_result"
    }
   ],
   "source": [
    "cdf = pd.DataFrame(data=lr.coef_, index=X_train.columns, columns=[\"Coeficients\"])\n",
    "cdf"
   ]
  },
  {
   "cell_type": "code",
   "execution_count": 82,
   "id": "9aad3c0e",
   "metadata": {
    "scrolled": false
   },
   "outputs": [
    {
     "name": "stdout",
     "output_type": "stream",
     "text": [
      "range(0, 7)\n"
     ]
    },
    {
     "data": {
      "text/html": [
       "<div>\n",
       "<style scoped>\n",
       "    .dataframe tbody tr th:only-of-type {\n",
       "        vertical-align: middle;\n",
       "    }\n",
       "\n",
       "    .dataframe tbody tr th {\n",
       "        vertical-align: top;\n",
       "    }\n",
       "\n",
       "    .dataframe thead th {\n",
       "        text-align: right;\n",
       "    }\n",
       "</style>\n",
       "<table border=\"1\" class=\"dataframe\">\n",
       "  <thead>\n",
       "    <tr style=\"text-align: right;\">\n",
       "      <th></th>\n",
       "      <th>Coeficients</th>\n",
       "      <th>Standard Error</th>\n",
       "      <th>t-statistic</th>\n",
       "    </tr>\n",
       "  </thead>\n",
       "  <tbody>\n",
       "    <tr>\n",
       "      <th>distance</th>\n",
       "      <td>0.005</td>\n",
       "      <td>0.003</td>\n",
       "      <td>1.899</td>\n",
       "    </tr>\n",
       "    <tr>\n",
       "      <th>speed</th>\n",
       "      <td>-0.025</td>\n",
       "      <td>0.004</td>\n",
       "      <td>-5.566</td>\n",
       "    </tr>\n",
       "    <tr>\n",
       "      <th>temp_inside</th>\n",
       "      <td>-0.074</td>\n",
       "      <td>0.055</td>\n",
       "      <td>-1.343</td>\n",
       "    </tr>\n",
       "    <tr>\n",
       "      <th>temp_outside</th>\n",
       "      <td>-0.042</td>\n",
       "      <td>0.008</td>\n",
       "      <td>-4.952</td>\n",
       "    </tr>\n",
       "    <tr>\n",
       "      <th>AC</th>\n",
       "      <td>0.619</td>\n",
       "      <td>0.210</td>\n",
       "      <td>2.940</td>\n",
       "    </tr>\n",
       "    <tr>\n",
       "      <th>rain</th>\n",
       "      <td>0.556</td>\n",
       "      <td>0.167</td>\n",
       "      <td>3.320</td>\n",
       "    </tr>\n",
       "    <tr>\n",
       "      <th>sun</th>\n",
       "      <td>-0.159</td>\n",
       "      <td>0.210</td>\n",
       "      <td>-0.755</td>\n",
       "    </tr>\n",
       "  </tbody>\n",
       "</table>\n",
       "</div>"
      ],
      "text/plain": [
       "              Coeficients  Standard Error  t-statistic\n",
       "distance            0.005           0.003        1.899\n",
       "speed              -0.025           0.004       -5.566\n",
       "temp_inside        -0.074           0.055       -1.343\n",
       "temp_outside       -0.042           0.008       -4.952\n",
       "AC                  0.619           0.210        2.940\n",
       "rain                0.556           0.167        3.320\n",
       "sun                -0.159           0.210       -0.755"
      ]
     },
     "execution_count": 82,
     "metadata": {},
     "output_type": "execute_result"
    }
   ],
   "source": [
    "n=X_train.shape[0]\n",
    "k=X_train.shape[1]\n",
    "print(range(k))\n",
    "dfN = n-k\n",
    "train_pred=lr.predict(X_train)\n",
    "train_error = np.square(train_pred - y_train)\n",
    "sum_error=np.sum(train_error)\n",
    "se=[0,0,0,0,0,0,0]\n",
    "for i in range(k):\n",
    "    r = (sum_error/dfN)\n",
    "    r = r/np.sum(np.square(X_train[list(X_train.columns)[i]]-X_train[list(X_train.columns)[i]].mean()))\n",
    "    se[i]=np.sqrt(r)\n",
    "cdf['Standard Error']=se\n",
    "cdf['t-statistic']=cdf['Coeficients']/cdf['Standard Error']\n",
    "cdf"
   ]
  },
  {
   "cell_type": "markdown",
   "id": "0788e42b",
   "metadata": {},
   "source": [
    "**Segons aquests valors quins són aquells que tenen més importància per predir el consum**"
   ]
  },
  {
   "cell_type": "code",
   "execution_count": 83,
   "id": "1eb1de74",
   "metadata": {
    "scrolled": true
   },
   "outputs": [
    {
     "name": "stdout",
     "output_type": "stream",
     "text": [
      "rain > \n",
      "AC > \n",
      "distance > \n",
      "sun > \n",
      "temp_inside > \n",
      "temp_outside > \n",
      "speed\n"
     ]
    }
   ],
   "source": [
    "l=list(cdf.sort_values('t-statistic',ascending=False).index)\n",
    "print(' > \\n'.join(l))"
   ]
  },
  {
   "cell_type": "code",
   "execution_count": 85,
   "id": "979f3469",
   "metadata": {
    "scrolled": false
   },
   "outputs": [],
   "source": [
    "#l=list(cdf.index)\n",
    "#from matplotlib import gridspec\n",
    "#fig = plt.figure(figsize=(10, 5))\n",
    "#gs = gridspec.GridSpec(2,4)\n",
    "#gs.hspace = .3\n",
    "#\n",
    "#ax0 = plt.subplot(gs[0])\n",
    "#ax0.scatter(df[l[0]],df['consume'])\n",
    "#ax0.set_title(l[0]+\" vs. consume\", fontdict={'fontsize':10})\n",
    "#\n",
    "#ax1 = plt.subplot(gs[1])\n",
    "#ax1.scatter(df[l[1]],df['consume'])\n",
    "#ax1.set_title(l[1]+\" vs. consume\",fontdict={'fontsize':10})\n",
    "#\n",
    "#ax2 = plt.subplot(gs[2])\n",
    "#ax2.scatter(df[l[2]],df['consume'])\n",
    "#ax2.set_title(l[2]+\" vs. consume\",fontdict={'fontsize':10})\n",
    "#\n",
    "#ax3 = plt.subplot(gs[3])\n",
    "#ax3.scatter(df[l[3]],df['consume'])\n",
    "#ax3.set_title(l[3]+\" vs. consume\",fontdict={'fontsize':10})\n",
    "#\n",
    "#ax4 = plt.subplot(gs[4])\n",
    "#ax4.scatter(df[l[4]],df['consume'])\n",
    "#ax4.set_title(l[4]+\" vs. consume\",fontdict={'fontsize':10})\n",
    "#\n",
    "#ax5 = plt.subplot(gs[5])\n",
    "#ax5.scatter(df[l[5]],df['consume'])\n",
    "#ax5.set_title(l[5]+\" vs. consume\",fontdict={'fontsize':10})\n",
    "#\n",
    "#ax6 = plt.subplot(gs[6])\n",
    "#ax6.scatter(df[l[6]],df['consume'])\n",
    "#ax6.set_title(l[6]+\" vs. consume\",fontdict={'fontsize':10})"
   ]
  },
  {
   "cell_type": "markdown",
   "id": "dbc432c9",
   "metadata": {},
   "source": [
    "**R-square del ajust del model**"
   ]
  },
  {
   "cell_type": "code",
   "execution_count": 248,
   "id": "830d0abb",
   "metadata": {},
   "outputs": [
    {
     "name": "stdout",
     "output_type": "stream",
     "text": [
      "Valor R-squared: 0.25088\n"
     ]
    }
   ],
   "source": [
    "print(\"Valor R-squared:\",round(metrics.r2_score(y_train,train_pred),5))"
   ]
  },
  {
   "cell_type": "markdown",
   "id": "659b570e",
   "metadata": {},
   "source": [
    "**Normalitzem les dades per a tenir els valors dins del mateix rang per a l'hora de calcular el model lineal que tenim**"
   ]
  },
  {
   "cell_type": "markdown",
   "id": "ae06f50f",
   "metadata": {},
   "source": [
    "Seguim els mateixos passos que en la secció anterior però ara normalitzem les dades en un inici"
   ]
  },
  {
   "cell_type": "code",
   "execution_count": 161,
   "id": "24c49224",
   "metadata": {
    "scrolled": true
   },
   "outputs": [
    {
     "name": "stdout",
     "output_type": "stream",
     "text": [
      "   distance  consume  speed  temp_inside  temp_outside    AC  rain   sun\n",
      "0     0.124    0.191  0.158        0.385         0.472 0.000 0.000 0.000\n",
      "1     0.050    0.101  0.211        0.385         0.500 0.000 0.000 0.000\n",
      "2     0.046    0.247  0.316        0.385         0.556 0.000 0.000 0.000\n",
      "3     0.054    0.067  0.289        0.385         0.528 0.000 0.000 0.000\n",
      "4     0.080    0.135  0.421        0.385         0.556 0.000 0.000 0.000\n"
     ]
    }
   ],
   "source": [
    "from sklearn import preprocessing\n",
    "df_norm = df.copy(deep = True)\n",
    "df_norm = df_norm.drop('gas_type', axis=1)\n",
    "x_norm = df_norm.values \n",
    "min_max_scaler = preprocessing.MinMaxScaler()\n",
    "x_scaled = min_max_scaler.fit_transform(x_norm)\n",
    "df_norm = pd.DataFrame(x_scaled, columns=df_norm.columns.values)\n",
    "print(df_norm.head())"
   ]
  },
  {
   "cell_type": "code",
   "execution_count": 165,
   "id": "737897cf",
   "metadata": {},
   "outputs": [
    {
     "name": "stdout",
     "output_type": "stream",
     "text": [
      "Feature set size: (388, 7)\n",
      "Variable set size: (388,)\n"
     ]
    }
   ],
   "source": [
    "label_columns_norm = list(df_norm.columns)\n",
    "len_feature_norm = len(label_columns_norm)\n",
    "\n",
    "X_df_norm = df_norm[label_columns_norm[0:len_feature_norm]]\n",
    "X_df_norm = X_df_norm.drop('consume', axis=1)\n",
    "Y_df_norm = df_norm[label_columns_norm[1]]\n",
    "print(\"Feature set size:\",X_df_norm.shape)\n",
    "print(\"Variable set size:\",Y_df_norm.shape)"
   ]
  },
  {
   "cell_type": "code",
   "execution_count": 166,
   "id": "93405880",
   "metadata": {
    "scrolled": true
   },
   "outputs": [
    {
     "name": "stdout",
     "output_type": "stream",
     "text": [
      "   distance  speed  temp_inside  temp_outside    AC  rain   sun\n",
      "0     0.124  0.158        0.385         0.472 0.000 0.000 0.000\n",
      "1     0.050  0.211        0.385         0.500 0.000 0.000 0.000\n",
      "2     0.046  0.316        0.385         0.556 0.000 0.000 0.000\n",
      "3     0.054  0.289        0.385         0.528 0.000 0.000 0.000\n",
      "4     0.080  0.421        0.385         0.556 0.000 0.000 0.000\n",
      "\n",
      "\n",
      " 0   0.191\n",
      "1   0.101\n",
      "2   0.247\n",
      "3   0.067\n",
      "4   0.135\n",
      "Name: consume, dtype: float64\n"
     ]
    }
   ],
   "source": [
    "print(X_df_norm.head())\n",
    "print(\"\\n\\n\",Y_df_norm.head())"
   ]
  },
  {
   "cell_type": "code",
   "execution_count": 167,
   "id": "46e00103",
   "metadata": {
    "scrolled": true
   },
   "outputs": [
    {
     "name": "stdout",
     "output_type": "stream",
     "text": [
      "Tamany X training normalitzat:\t (271, 7)\n",
      "Tamany X test normalitzat:\t (117, 7)\n",
      "Tamany Y training normalitzat:\t (271,)\n",
      "Tamany Y test normalitzat:\t (117,)\n"
     ]
    }
   ],
   "source": [
    "X_train_norm, X_test_norm, y_train_norm, y_test_norm = train_test_split(X_df_norm, Y_df_norm, test_size=0.3, random_state=123)\n",
    "print(\"Tamany X training normalitzat:\\t\",X_train_norm.shape)\n",
    "print(\"Tamany X test normalitzat:\\t\",X_test_norm.shape)\n",
    "print(\"Tamany Y training normalitzat:\\t\",y_train_norm.shape)\n",
    "print(\"Tamany Y test normalitzat:\\t\",y_test_norm.shape)"
   ]
  },
  {
   "cell_type": "code",
   "execution_count": 168,
   "id": "f5ba5a42",
   "metadata": {
    "scrolled": false
   },
   "outputs": [
    {
     "name": "stdout",
     "output_type": "stream",
     "text": [
      "Intercepció del model lineal: 0.33457831870476445\n",
      "\n",
      "Coeficients del model lineal: [ 0.11663891 -0.21090909 -0.05407346 -0.16789995  0.06951817  0.06244887\n",
      " -0.01786587]\n"
     ]
    }
   ],
   "source": [
    "lr.fit(X_train_norm,y_train_norm)\n",
    "print(\"Intercepció del model lineal:\", lr.intercept_)\n",
    "print(\"\\nCoeficients del model lineal:\", lr.coef_)"
   ]
  },
  {
   "cell_type": "markdown",
   "id": "d6af5ff9",
   "metadata": {},
   "source": [
    "**Calculem la t-statistic i el Standard Error**"
   ]
  },
  {
   "cell_type": "code",
   "execution_count": 170,
   "id": "74169685",
   "metadata": {
    "scrolled": true
   },
   "outputs": [
    {
     "name": "stdout",
     "output_type": "stream",
     "text": [
      "range(0, 7)\n"
     ]
    },
    {
     "data": {
      "text/html": [
       "<div>\n",
       "<style scoped>\n",
       "    .dataframe tbody tr th:only-of-type {\n",
       "        vertical-align: middle;\n",
       "    }\n",
       "\n",
       "    .dataframe tbody tr th {\n",
       "        vertical-align: top;\n",
       "    }\n",
       "\n",
       "    .dataframe thead th {\n",
       "        text-align: right;\n",
       "    }\n",
       "</style>\n",
       "<table border=\"1\" class=\"dataframe\">\n",
       "  <thead>\n",
       "    <tr style=\"text-align: right;\">\n",
       "      <th></th>\n",
       "      <th>Coeficients</th>\n",
       "      <th>Standard Error</th>\n",
       "      <th>t-statistic</th>\n",
       "    </tr>\n",
       "  </thead>\n",
       "  <tbody>\n",
       "    <tr>\n",
       "      <th>distance</th>\n",
       "      <td>0.117</td>\n",
       "      <td>0.061</td>\n",
       "      <td>1.899</td>\n",
       "    </tr>\n",
       "    <tr>\n",
       "      <th>speed</th>\n",
       "      <td>-0.211</td>\n",
       "      <td>0.038</td>\n",
       "      <td>-5.566</td>\n",
       "    </tr>\n",
       "    <tr>\n",
       "      <th>temp_inside</th>\n",
       "      <td>-0.054</td>\n",
       "      <td>0.040</td>\n",
       "      <td>-1.343</td>\n",
       "    </tr>\n",
       "    <tr>\n",
       "      <th>temp_outside</th>\n",
       "      <td>-0.168</td>\n",
       "      <td>0.034</td>\n",
       "      <td>-4.952</td>\n",
       "    </tr>\n",
       "    <tr>\n",
       "      <th>AC</th>\n",
       "      <td>0.070</td>\n",
       "      <td>0.024</td>\n",
       "      <td>2.940</td>\n",
       "    </tr>\n",
       "    <tr>\n",
       "      <th>rain</th>\n",
       "      <td>0.062</td>\n",
       "      <td>0.019</td>\n",
       "      <td>3.320</td>\n",
       "    </tr>\n",
       "    <tr>\n",
       "      <th>sun</th>\n",
       "      <td>-0.018</td>\n",
       "      <td>0.024</td>\n",
       "      <td>-0.755</td>\n",
       "    </tr>\n",
       "  </tbody>\n",
       "</table>\n",
       "</div>"
      ],
      "text/plain": [
       "              Coeficients  Standard Error  t-statistic\n",
       "distance            0.117           0.061        1.899\n",
       "speed              -0.211           0.038       -5.566\n",
       "temp_inside        -0.054           0.040       -1.343\n",
       "temp_outside       -0.168           0.034       -4.952\n",
       "AC                  0.070           0.024        2.940\n",
       "rain                0.062           0.019        3.320\n",
       "sun                -0.018           0.024       -0.755"
      ]
     },
     "execution_count": 170,
     "metadata": {},
     "output_type": "execute_result"
    }
   ],
   "source": [
    "cdf_norm = pd.DataFrame(data=lr.coef_, index=X_train_norm.columns, columns=[\"Coeficients\"])\n",
    "n=X_train_norm.shape[0]\n",
    "k=X_train_norm.shape[1]\n",
    "print(range(k))\n",
    "dfN = n-k\n",
    "train_pred_norm=lr.predict(X_train_norm)\n",
    "train_error_norm = np.square(train_pred_norm - y_train_norm)\n",
    "sum_error=np.sum(train_error_norm)\n",
    "se=[0,0,0,0,0,0,0]\n",
    "for i in range(k):\n",
    "    r = (sum_error/dfN)\n",
    "    r = r/np.sum(np.square(X_train_norm[list(X_train_norm.columns)[i]]-X_train_norm[list(X_train_norm.columns)[i]].mean()))\n",
    "    se[i]=np.sqrt(r)\n",
    "cdf_norm['Standard Error']=se\n",
    "cdf_norm['t-statistic']=cdf_norm['Coeficients']/cdf_norm['Standard Error']\n",
    "cdf_norm"
   ]
  },
  {
   "cell_type": "markdown",
   "id": "31d03042",
   "metadata": {},
   "source": [
    "**Quin és l'ordre de predicció una vegada normalitzat?**"
   ]
  },
  {
   "cell_type": "code",
   "execution_count": 158,
   "id": "15db8a74",
   "metadata": {
    "scrolled": true
   },
   "outputs": [
    {
     "name": "stdout",
     "output_type": "stream",
     "text": [
      "distance > \n",
      "speed > \n",
      "temp_inside > \n",
      "temp_outside > \n",
      "AC > \n",
      "rain > \n",
      "sun\n"
     ]
    }
   ],
   "source": [
    "l_n=list(cdf_norm.sort_values('t-statistic',ascending=False).index)\n",
    "print(' > \\n'.join(l))"
   ]
  },
  {
   "cell_type": "markdown",
   "id": "c16ff0e7",
   "metadata": {},
   "source": [
    "**La R-Squared segueix amb el mateix valor?**"
   ]
  },
  {
   "cell_type": "code",
   "execution_count": 171,
   "id": "25c83c7d",
   "metadata": {},
   "outputs": [
    {
     "name": "stdout",
     "output_type": "stream",
     "text": [
      "Valor R-squared: 0.25088\n"
     ]
    }
   ],
   "source": [
    "print(\"Valor R-squared:\",round(metrics.r2_score(y_train_norm,train_pred_norm),5))"
   ]
  },
  {
   "cell_type": "markdown",
   "id": "8fba25b1",
   "metadata": {},
   "source": [
    "Per a agilitzar els càlculs es recomana utilitzar la llibreria numpy. Aquesta llibreria ens permet processar vectors sencers a la vegada de manera eficient i en paral·lel. Exemple:"
   ]
  },
  {
   "cell_type": "code",
   "execution_count": 149,
   "id": "42cc15e5",
   "metadata": {},
   "outputs": [
    {
     "name": "stdout",
     "output_type": "stream",
     "text": [
      "Suma vector1 + vector2  [2 4 4 8]\n",
      "Suma valors vector1  10\n",
      "Mitjana vector1 2.5\n",
      "Vector1 amb un 5 on el Vector2 te 1s  [5 2 5 4]\n",
      "MSE:  1.0\n"
     ]
    }
   ],
   "source": [
    "import numpy as np #importem la llibreria\n",
    "np.warnings.filterwarnings('ignore')\n",
    "\n",
    "vector1 = np.array([1,2,3,4]) # convertim llista de python a numpy array\n",
    "vector2 = np.array([1,2,1,4]) \n",
    "\n",
    "# podem sumar dos vectors element a element\n",
    "print(\"Suma vector1 + vector2 \", vector1 + vector2)\n",
    "\n",
    "# podem sumar tots els valors d'un vector\n",
    "print(\"Suma valors vector1 \", vector1.sum())\n",
    "\n",
    "# calculem la mitjana\n",
    "print(\"Mitjana vector1\", vector1.mean())\n",
    "\n",
    "# utilitzem un vector com a índex de l'altre\n",
    "# vector3 = vector1  # necesitem fer una copia del vector per no modificar el original\n",
    "vector3 = vector1.copy()\n",
    "vector3[vector2 == 1] = 5\n",
    "print(\"Vector1 amb un 5 on el Vector2 te 1s \", vector3)\n",
    "\n",
    "# es pot utilitzar numpy per a calcular el mse\n",
    "def mse(v1, v2):\n",
    "    return ((v1 - v2)**2).mean()\n",
    "\n",
    "print(\"MSE: \", mse(vector1, vector2))"
   ]
  },
  {
   "cell_type": "markdown",
   "id": "ef6eeead",
   "metadata": {},
   "source": [
    "Per a la regressió podeu utilitzar la llibreria sklearn:"
   ]
  },
  {
   "cell_type": "code",
   "execution_count": 128,
   "id": "621e5e84",
   "metadata": {},
   "outputs": [],
   "source": [
    "from sklearn.linear_model import LinearRegression\n",
    "\n",
    "def regression(x, y):\n",
    "    # Creem un objecte de regressió de sklearn\n",
    "    regr = LinearRegression()\n",
    "\n",
    "    # Entrenem el model per a predir y a partir de x\n",
    "    regr.fit(x, y)\n",
    "\n",
    "    # Retornem el model entrenat\n",
    "    return regr"
   ]
  },
  {
   "cell_type": "markdown",
   "id": "59aaa2aa",
   "metadata": {},
   "source": [
    "Finalment, si la funció `fit` del regressor logístic dónes l'error: `ValueError: Unknown label type: 'unknown'`, caldria afegir a la definició de l'atribut a trobar $y$ la crida a la funció `.astype('int')` per tal de obligar a que les dades siguin de tipus sencer, deixant el codi com segueix:\n",
    "\n",
    "`y = data[:,2].astype('int')`"
   ]
  },
  {
   "cell_type": "markdown",
   "id": "a11a8d3b",
   "metadata": {},
   "source": [
    "A continuació, es modificaran tots els atributs mitjançant **procediments de normalització (normal, estàndard)**, i s'avaluarà el rendiment del regressor après. Per a això, caldrà analitzar la mitja i variança de cada variable per totes les mostres, per identificar aquells valors que tenen una distribució normal, els preferits per fer regressió, i descartar altres atributs que no són representatius per fer la regressió, i que afegeixen soroll al model. \n",
    "\n",
    "Pel que fa a l'error resultant de la regressió, recordeu que es calcula fent la diferència entre el valor predit i el real al quadrat: així doncs, si les dades tenen valors grans (tipus 10^3), l'error al quadrat podria acabar sent 10^6. Per això és important normalitzar abans (escalar les dades a un rang més petit).\n",
    "\n",
    "<img src=\"images/standarization.png\">\n",
    "\n",
    "Podeu estandarditzar les dades amb les funcions mean i std de numpy i mostrar l'hisotgrama de nou. Recuperant l'exemple de l'apartat anterior:"
   ]
  },
  {
   "cell_type": "code",
   "execution_count": 5,
   "id": "c09a7ca3",
   "metadata": {},
   "outputs": [
    {
     "ename": "NameError",
     "evalue": "name 'x' is not defined",
     "output_type": "error",
     "traceback": [
      "\u001b[1;31m---------------------------------------------------------------------------\u001b[0m",
      "\u001b[1;31mNameError\u001b[0m                                 Traceback (most recent call last)",
      "\u001b[1;32m~\\AppData\\Local\\Temp/ipykernel_24428/3717568359.py\u001b[0m in \u001b[0;36m<module>\u001b[1;34m\u001b[0m\n\u001b[0;32m      6\u001b[0m     \u001b[1;32mreturn\u001b[0m \u001b[0mx_t\u001b[0m\u001b[1;33m\u001b[0m\u001b[1;33m\u001b[0m\u001b[0m\n\u001b[0;32m      7\u001b[0m \u001b[1;33m\u001b[0m\u001b[0m\n\u001b[1;32m----> 8\u001b[1;33m \u001b[0mx_t\u001b[0m \u001b[1;33m=\u001b[0m \u001b[0mstandarize\u001b[0m\u001b[1;33m(\u001b[0m\u001b[0mx\u001b[0m\u001b[1;33m)\u001b[0m\u001b[1;33m\u001b[0m\u001b[1;33m\u001b[0m\u001b[0m\n\u001b[0m",
      "\u001b[1;31mNameError\u001b[0m: name 'x' is not defined"
     ]
    }
   ],
   "source": [
    "def standarize(x_train):\n",
    "    mean = x_train.mean(0)\n",
    "    std = x_train.std(0)\n",
    "    x_t = x_train - mean[None, :]\n",
    "    x_t /= std[None, :]\n",
    "    return x_t\n",
    "\n",
    "x_t = standarize(x)"
   ]
  },
  {
   "cell_type": "markdown",
   "id": "ce5fac49",
   "metadata": {},
   "source": [
    "Ara ja podeu comprovar la diferència entre entrenar amb els atributs estandaritzats i si aquells que tenen una distribució més semblant a la normal donen millors resultats. \n",
    "Finalment, s'aprendrà un model regressor tenint en compte tots aquells atributs que tenen una millor distribució de valors (lineal, això és, l'histograma de valors té forma de gaussiana), i es calcularà l'error assolit en la predicció. \n",
    "\n",
    "Recordeu que el valor sobre el que heu de fer la regressió queda al vostre criteri: **heu d'explicar a la memòria quin atribut heu fet servir, no hi ha una decisió única correcta, cal que doneu raons de per què heu triat l'atribut que hàgiu triat.**\n",
    "\n",
    "Així per exemple pode mirar:\n",
    "\n",
    "* Que l'objectiu de la regressió sigui un valor ordinal (1 > 2 > 3). Si no n'hi ha cap, explicar-ho a la memòria.\n",
    "\n",
    "* Que sigui útil en alguna aplicació real (per exemple predir si plourà és més interessant que predir el color dels núvols).\n",
    "\n",
    "* Que tingui certa variació (un atribut que és sempre 0, no té gaire interès)\n",
    "\n",
    "I en definitiva explicar el criteri a seguir, tant amb paraules com amb gràfiques (per exemple histograma), o estadístiques (per exemple la variança dels atributs) si escau.\n",
    "\n",
    "Un cop escollit l'atribut objectiu, caldrà justificar si l'error obtingut és, en proporció, menor que tenint en compte únicament el millor atribut identificat al primer punt. \n",
    "\n",
    "Podeu utilitzar les funcions hist de matplotlib per a calcular els histogrames. Exemple:"
   ]
  },
  {
   "cell_type": "code",
   "execution_count": null,
   "id": "238f86e1",
   "metadata": {},
   "outputs": [],
   "source": [
    "plt.figure()\n",
    "plt.title(\"Histograma de l'atribut 0\")\n",
    "plt.xlabel(\"Attribute Value\")\n",
    "plt.ylabel(\"Count\")\n",
    "hist = plt.hist(x_t[:,0], bins=11, range=[np.min(x_t[:,0]), np.max(x_t[:,0])], histtype=\"bar\", rwidth=0.8)"
   ]
  },
  {
   "cell_type": "markdown",
   "id": "55ef1c8f",
   "metadata": {},
   "source": [
    "o utilitzar les funcions de visualitzación del propi pandas."
   ]
  },
  {
   "cell_type": "code",
   "execution_count": null,
   "id": "8250b66d",
   "metadata": {},
   "outputs": [],
   "source": [
    "dataset.drop(['attr2'],1).hist()"
   ]
  },
  {
   "cell_type": "markdown",
   "id": "16688e91",
   "metadata": {},
   "source": [
    "Ara que hem carregat les dades podem entrenar un regressor lineal per a aproximar la funció que les genera:"
   ]
  },
  {
   "cell_type": "code",
   "execution_count": null,
   "id": "9d19a492",
   "metadata": {},
   "outputs": [],
   "source": [
    "from sklearn.metrics import r2_score\n",
    "\n",
    "# Extraiem el primer atribut de x i canviem la mida a #exemples, #dimensions de l'atribut.\n",
    "# En el vostre cas, haureu de triar un atribut com a y, i utilitzar la resta com a x.\n",
    "atribut1 = x[:,0].reshape(x.shape[0], 1) \n",
    "regr = regression(atribut1, y) \n",
    "predicted = regr.predict(atribut1)\n",
    "\n",
    "# Mostrem la predicció del model entrenat en color vermell a la Figura anterior 1\n",
    "plt.figure()\n",
    "ax = plt.scatter(x[:,0], y)\n",
    "plt.plot(atribut1[:,0], predicted, 'r')\n",
    "\n",
    "# Mostrem l'error (MSE i R2)\n",
    "MSE = mse(y, predicted)\n",
    "r2 = r2_score(y, predicted)\n",
    "\n",
    "print(\"Mean squeared error: \", MSE)\n",
    "print(\"R2 score: \", r2)\n"
   ]
  },
  {
   "cell_type": "markdown",
   "id": "90270380",
   "metadata": {},
   "source": [
    "Un cop mostrats de manera adient, (en forma de taula, i/o de gràfics si la dimensionalitat ho permet) els resultats aconseguits amb la regressió, avaluarem de manera independent la idonietat de cadascun dels atributs."
   ]
  },
  {
   "cell_type": "code",
   "execution_count": null,
   "id": "b94f885c",
   "metadata": {},
   "outputs": [],
   "source": [
    "\"\"\" Per a assegurar-nos que el model s'ajusta be a dades noves, no vistes, \n",
    "cal evaluar-lo en un conjunt de validacio (i un altre de test en situacions reals).\n",
    "Com que en aquest cas no en tenim, el generarem separant les dades en \n",
    "un 80% d'entrenament i un 20% de validació.\n",
    "\"\"\"\n",
    "def split_data(x, y, train_ratio=0.8):\n",
    "    indices = np.arange(x.shape[0])\n",
    "    np.random.shuffle(indices)\n",
    "    n_train = int(np.floor(x.shape[0]*train_ratio))\n",
    "    indices_train = indices[:n_train]\n",
    "    indices_val = indices[n_train:] \n",
    "    x_train = x[indices_train, :]\n",
    "    y_train = y[indices_train]\n",
    "    x_val = x[indices_val, :]\n",
    "    y_val = y[indices_val]\n",
    "    return x_train, y_train, x_val, y_val\n",
    "\n",
    "# Dividim dades d'entrenament\n",
    "x_train, y_train, x_val, y_val = split_data(x, y)\n",
    "\n",
    "for i in range(x_train.shape[1]):\n",
    "    x_t = x_train[:,i] # seleccionem atribut i en conjunt de train\n",
    "    x_v = x_val[:,i] # seleccionem atribut i en conjunt de val.\n",
    "    x_t = np.reshape(x_t,(x_t.shape[0],1))\n",
    "    x_v = np.reshape(x_v,(x_v.shape[0],1))\n",
    "\n",
    "    regr = regression(x_t, y_train)    \n",
    "    error = mse(y_val, regr.predict(x_v)) # calculem error\n",
    "    r2 = r2_score(y_val, regr.predict(x_v))\n",
    "\n",
    "    print(\"Error en atribut %d: %f\" %(i, error))\n",
    "    print(\"R2 score en atribut %d: %f\" %(i, r2))\n"
   ]
  },
  {
   "cell_type": "markdown",
   "id": "c6390672",
   "metadata": {},
   "source": [
    "Quan es treballa en dades n-dimensionals (més d'un atribut), una opció és reduir la seva n-dimensionalitat aplicant un Principal Component Analysis (PCA) i quedar-se amb els primers 2 o 3 components, obtenint unes dades que (ara sí) poden ser visualitzables en el nou espai. Existeixen altres embeddings de baixa dimensionalitat on poder visualitzar les dades?"
   ]
  },
  {
   "cell_type": "markdown",
   "id": "944ee5a0",
   "metadata": {},
   "source": [
    "Així es podrà contestar a aquestes **preguntes**:\n",
    "\n",
    "1. Quin són els atributs més importants per fer una bona predicció?\n",
    "\n",
    "2. Amb quin atribut s'assoleix un MSE menor?\n",
    "\n",
    "3. Quina correlació hi ha entre els atributs de la vostra base de dades?\n",
    "\n",
    "4. Com influeix la normalització en la regressió?\n",
    "\n",
    "5. Com millora la regressió quan es filtren aquells atributs de les mostres que no contenen informació?\n",
    "\n",
    "6. Si s'aplica un PCA, a quants components es redueix l'espai? Per què?\n"
   ]
  },
  {
   "cell_type": "markdown",
   "id": "629c064f",
   "metadata": {},
   "source": [
    "# Apartat (A): El descens del gradient  \n",
    "\n",
    "En aquest exercici, es tracta d'implementar en python el procés de descent del gradient explicat a les classes de teoria, i comparar-lo amb els resultats obtinguts amb l'apartat (B). \n",
    "\n",
    "$$J(w) = \\frac{1}{2m} \\left[ \\sum^m_{i=1}(f(x^{i}; w) - y^{i})^2 + \\lambda\\sum_{j=1}^{n}(w_{j}^2) \\right]$$\n",
    "\n",
    "Fixeu-vos que $J$ retorna el `mse`. Per a trobar $w_j$, repetir fins convergència:\n",
    "$$w_0 = w_0 - \\alpha \\frac{1}{m} \\sum_{i=1}^{m}(f(x^{i}; w)-y^{i}) \\cdot 1$$\n",
    "$$w_j = w_j - \\alpha \\left[\\frac{1}{m} \\sum_{i=1}^{m}(f(x^{i}; w)-y^{i}) \\cdot x_{j}^{i} - \\frac{\\lambda}{m}w_{j} \\right]$$\n",
    "\n",
    "\n",
    "ó:\n",
    "\n",
    "$$w_{j} := w_{j} \\left(1-\\alpha \\frac{\\lambda}{m} \\right) - \\alpha\\frac{\\lambda}{m} \\sum_{i=1}^{m}(f(x^{i}; w)-y^{i}) \\cdot x_{j}^{i}$$\n",
    "\n",
    "On si considerem un regressor lineal (el model és una recta), llavors $w_0$ i $w_1$ representen, respectivament, la $b$ i $a$ de la fòrmula de la recta: \n",
    "\n",
    "$$h_\\theta(x^{(i)}) = ax + b$$\n",
    "\n",
    "$\\alpha$ és el learning rate, i $h_\\theta(x^{(i)})$ és la funció que fa la regressió, és a dir, la funció que prediu el valor de $y^{(i)}$ donat un(s) atribut(s) concret(s) $x^{(i)}$.\n",
    "\n",
    "Així, tenint calculat el model en l'últim punt del primer exercici, ja sabeu quin resultat hauríeu d'obtenir. O no, perquè la vostra implementació pot ser millor! En concret, es tracta de desenvolupar aquestes tasques:\n",
    "\n",
    "* Definir la funció de cost i del gradient\n",
    "\n",
    "* Estudiar com l'ús de regularitzadors afecta el resultat: overfitting, underfitting, etc. \n",
    "\n",
    "* Visualització de les dades a analitzar i explicació pas a pas del procediment   \n",
    "\n",
    "* Visualització del procés de descens de gradient \n",
    "\n",
    "* Modificar el learning rate i el nombre d'iteracions \n",
    "\n",
    "<img src=\"images/gradient_descent.png\">\n",
    "\n",
    "Per a la implementació us podeu basar en el següent esquelet:"
   ]
  },
  {
   "cell_type": "code",
   "execution_count": null,
   "id": "f6ae0d12",
   "metadata": {},
   "outputs": [],
   "source": [
    "class Regressor(object):\n",
    "    def __init__(self, w0, w1, alpha):\n",
    "        # Inicialitzem w0 i w1 (per ser ampliat amb altres w's)\n",
    "        self.w0 = w0\n",
    "        self.w1 = w1\n",
    "        self.alpha = alpha\n",
    "\n",
    "        \n",
    "    def predict(self, x):\n",
    "        # implementar aqui la funció de prediccio\n",
    "        pass\n",
    "    \n",
    "    def __update(self, hy, y):\n",
    "        # actualitzar aqui els pesos donada la prediccio (hy) i la y real.\n",
    "        pass\n",
    "    \n",
    "    def train(self, max_iter, epsilon):\n",
    "        # Entrenar durant max_iter iteracions o fins que la millora sigui inferior a epsilon\n",
    "        pass"
   ]
  },
  {
   "cell_type": "markdown",
   "id": "e84fc9ae",
   "metadata": {},
   "source": [
    "L'últim pas serà validar el regressor trobat pel descent del gradient desenvolupat en aquest apartat visualment, aplicat a un model de recta i un model de pla. Per a això, caldrà considerar el millor atribut identificat en el primer punt de l'anterior entrega per visualitzar la línia regressora en 2D (podeu mostrar dades 2d amb la funció scatter). Després, dos dels atributs identificats a l'últim punt del primer exercici per visualitzar el pla regressor en 3D (En el cas 3D l’scatter s’ha de fer sobre una figura amb projecció 3D)."
   ]
  },
  {
   "cell_type": "code",
   "execution_count": null,
   "id": "572352bd",
   "metadata": {},
   "outputs": [],
   "source": [
    "%matplotlib notebook\n",
    "\n",
    "# Creem figura 3d\n",
    "from mpl_toolkits.mplot3d import axes3d, Axes3D\n",
    "# generem dades 3D d'exemple\n",
    "x_val = np.random.random((100, 2))\n",
    "y_val = np.random.random((100, 1))\n",
    "regr = regression(x_val, y_val)\n",
    "predX3D = regr.predict(x_val)\n",
    "\n",
    "# Afegim els 1's\n",
    "A = np.hstack((x_val,np.ones([x_val.shape[0],1])))\n",
    "w = np.linalg.lstsq(A,predX3D)[0]\n",
    "\n",
    "#Dibuixem\n",
    "#1r creem una malla acoplada a la zona de punts per tal de representar el pla\n",
    "malla = (range(20) + 0 * np.ones(20)) / 10 \n",
    "malla_x1 =  malla * (max(x_val[:,0]) - min(x_val[:,0]))/2 + min(x_val[:,0])\n",
    "malla_x2 =  malla * (max(x_val[:,1]) - min(x_val[:,1]))/2 + min(x_val[:,1])\n",
    "\n",
    "#la funcio meshgrid ens aparella un de malla_x1 amb un de malla_x2, per atot\n",
    "#element de mallax_1 i per a tot element de malla_x2.\n",
    "xplot, yplot = np.meshgrid(malla_x1 ,malla_x2)\n",
    "\n",
    "# Cal desnormalitzar les dades\n",
    "def desnormalitzar(x, mean, std):\n",
    "    return x * std + mean\n",
    "\n",
    "#ara creem la superficies que es un pla\n",
    "zplot = w[0] * xplot + w[1] * yplot + w[2]\n",
    "\n",
    "#Dibuixem punts i superficie\n",
    "plt3d = plt.figure('Coeficiente prismatico -- Relacio longitud desplacament 3D', dpi=100.0).gca(projection='3d')\n",
    "plt3d.plot_surface(xplot,yplot,zplot, color='red')\n",
    "plt3d.scatter(x_val[:,0],x_val[:,1],y_val)"
   ]
  },
  {
   "cell_type": "markdown",
   "id": "0812dc9b",
   "metadata": {},
   "source": [
    "Així es podrà contestar a aquestes preguntes:\n",
    "\n",
    "1. Com influeixen tots els paràmetres en el procés de descens? Quins valors de learning rate convergeixen més ràpid a la solució òptima? Com influeix la inicialització del model en el resultat final? \n",
    "\n",
    "2. Quines funcions polinomials (de diferent grau, de diferents combinacions d'atributs, ...) heu escollit per ser apreses amb el vostre descens del gradient? quina ha donat el millor resultat (en error i rapidesa en convergència)?\n",
    "\n",
    "3. Utilitzeu el regularitzador en la fòrmula de funció de cost i descens del gradient i proveu polinomis de diferent grau. Com afecta el valor del regularitzador?\n",
    "\n",
    "3. Quina diferència (quantitativa i qualitativa) hi ha entre el vostre regressor i el de la llibreria ?\n",
    "\n",
    "4. Té sentit el model (polinomial) trobat quan es visualitza sobre les dades? \n",
    "\n",
    "5. Ajuda la visualització a identificar aquelles mostres per a les que el regressor obté els pitjors resultats de predicció? \n"
   ]
  }
 ],
 "metadata": {
  "kernelspec": {
   "display_name": "Python 3 (ipykernel)",
   "language": "python",
   "name": "python3"
  },
  "language_info": {
   "codemirror_mode": {
    "name": "ipython",
    "version": 3
   },
   "file_extension": ".py",
   "mimetype": "text/x-python",
   "name": "python",
   "nbconvert_exporter": "python",
   "pygments_lexer": "ipython3",
   "version": "3.9.12"
  }
 },
 "nbformat": 4,
 "nbformat_minor": 5
}
