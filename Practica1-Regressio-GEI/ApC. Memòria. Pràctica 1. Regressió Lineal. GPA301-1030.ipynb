{
 "cells": [
  {
   "cell_type": "markdown",
   "id": "5098a119",
   "metadata": {},
   "source": [
    "<center><h1> Universitat Autònoma de Barcelona</h1></center>\n",
    "<center> <h2> Aprenentatge Computacional </h2> </center>\n",
    "\n",
    "<hr style=\"height:0.5px;border-width:0;color:black;background-color:gray\">\n",
    "<center><h3>Memòria de pràctiques.</h3></center>\n",
    "\n",
    "<center> <h4> Pràctica 1: Regressió lineal </h4> </center>\n",
    "\n",
    "<hr style=\"height:0.5px;border-width:10;color:black;background-color:gray\">\n",
    "\n",
    "<center> Curs 2022 - 2023 </center>\n",
    "<center>  12 d'octubre de 2022 </center>\n",
    "\n",
    "**Estudiants - NIU:**\n",
    "    <p>Pol Colomer Campoy - 1605612</p>\n",
    "    <p>Jan Rubio Rico - 1603753 </p>\n",
    "    <p>Gerard Guarin Velez - 1605947 </p>\n",
    "\n",
    "**Subgrup i torn:**\n",
    "<p>GPA301-1030</p>\n",
    "\n",
    "\n",
    "\n",
    "<hr style=\"height:2px;border-width:10;color:black;background-color:black\">"
   ]
  },
  {
   "cell_type": "markdown",
   "id": "6ff553f2",
   "metadata": {},
   "source": [
    "### Introducció:\n",
    "\n",
    "Per a la realització d'aquesta pràctica, s'ens ha assignat una base de dades a cada grup. Al nostre grup (GPA301-1030), s'ens ha assignat una base de dades referent al consum de combustible d'un cotxe. El creador d'aquesta ens relata que, durant la recolecció d'aquestes dades, sempre conduia el mateix cotxe i normalment sempre feia la mateixa ruta, per tant, la mateixa distància. De tant en tant, canviava el tipus de combustible.\n",
    "El nostre objectiu serà analitzar aquestes dades i determinar quin tipus de combustible és més barat, el ``E10`` o el ``SP 98``, per a la mateixa distància conduida. Per saber el preu dels combustibles, el creador ens aporta el preu per litre d'aquests: ``E10 is sold for 1,38€; SP98 is sold for 1,46€; per liter.``\n"
   ]
  },
  {
   "cell_type": "markdown",
   "id": "ba00404d",
   "metadata": {},
   "source": [
    "###  Anàlisi de la nostra base de dades:\n",
    "\n",
    "#### Explicació de les dades:\n",
    "La nostra base de dades està formada per 388 entrades, i cada entrada conté 12 atributs.\n",
    "Els atributs són els següents:\n",
    "* **distance**: Ens mostra la distància recorreguda durant la ruta *(en km)*. Cap entrada conté aquest atribuit buit. <br> <br>\n",
    "* **consume**: Conté el consum (del gas_type especificat) de la ruta (en litres/100 km). Cap entrada conté aquest atribut buit. <br> <br>\n",
    "* **speed**: La distància mitja de tota la ruta *(en km/h)*. Cap entrada conté aquest atribuit buit. <br> <br>\n",
    "* **temp_inside**: Ens mostra la temperatura (mitjana) que ha fet a dins del vehicle, en *°C*, durant la ruta. En aquest cas, tenim 12 entrades en les quals aquest atribut no té cap valor. <br> <br>\n",
    "* **temp_outside**: Ens mostra la temperatura (mitjana) que ha fet a fora del vehicle, en *°C*, durant la ruta. En aquest cas, tenim 12 entrades en les quals aquest atribut no té cap valor. Cap entrada conté aquest atribut buit. <br> <br>\n",
    "* **specials**: Per a aquest atribut, tenim 295 entrades sense un valor definit. Al veure això ens preguntem quins valors pot tenir, ja que no són valors numèrics, sinó un string. Mitjançant la comanda ``dataset.specials.unique()``, podem veure que els valors diferents que té aquest atribut són els següents: `` [nan, 'AC rain', 'AC', 'rain', 'snow', 'AC snow', 'half rain half sun', 'sun', 'AC sun', 'sun ac', 'ac', 'AC Sun', 'ac rain']``. Si no tenim en compte les majúscules i minúscules i les combinacions dels strings, tenim els següents valors:\n",
    "  * **NAN**: Valor buit (en 295 entrades).\n",
    "  * **AC**: Ens indica si s'ha encès l'aire acondicionat durant la ruta.\n",
    "  * **Rain**: Indica si ha plogut.\n",
    "  * **Snow**: Indica si ha nevat. Més endavant, veurem un atribut anomenat 'rain', que és de tipus bool. Quan s'indica que ha nevat, l'atribut rain està a True (1).\n",
    "  * **Half rain half sun**: Durant la meitat de la ruta ha plogut, durant l'altre meitat ha fet sol. (No confondre amb l'atribut de més endavant de tipus bool anomenat 'sun', ja que aquest NO està activat en aquesta ocasió (False (0)), mentre que el de rain SÍ (True (1)).\n",
    "  * **Sun**: Indica si ha fet sol suficient com perquè el cotxe es notés calent a l'hora de començar la ruta. Quan specials té aquest valor, l'atribut sun = True (1).\n",
    "  <br> <br>\n",
    "* **gas_type**: Senyala quin tipus de combustible s'estava fent servir en la ruta, ``E10`` o ``SP98``. Cap entrada conté aquest atribuit buit. <br> <br>\n",
    "* **AC**: Atribut de tipus bool *[0,1]* que ens indica si l'aire acondicionat s'ha encès durant la ruta. Cap entrada conté aquest atribuit buit. <br> <br>\n",
    "* **rain**: Atribut de tipus bool *[0,1]* que ens indica si ha plogut durant la ruta. Cap entrada conté aquest atribuit buit. <br> <br>\n",
    "* **sun**: Atribut de tipus bool *[0,1]* que ens indica si ha fet suficient sol perquè el cotxe es notés calent a l'hora de començar la ruta.<br> <br>\n",
    "* **refill liters**: S'indica, en els casos que s'hagi omplert el dipòsit, quants litres es van introduir. S'ha d'anar amb compte, doncs aquest atribut i el següent només s'han omplert en 13 ocasions, o el que és el mateix, en 375 ocasions conté aquests atributs buits.<br> <br>\n",
    "* **refill gas**: S'indica, en els casos que s'hagi omplert el dipòsit, quin tipus de carburant es va introduir. Com s'ha comentat en l'anterior atribut, s'ha d'anar amb compte, doncs aquest atribut i l'anterior només s'han omplert en 13 ocasions, o el que és el mateix, en 375 ocasions conté aquests atributs buits. <br> <br>\n",
    "\n",
    "(A partir d'ara ens referirem a la base de dades també com a BBDD)"
   ]
  },
  {
   "cell_type": "markdown",
   "id": "a5efed15",
   "metadata": {},
   "source": [
    "#### Estadístiques referents als atributs numèrics de la BBDD:\n"
   ]
  },
  {
   "cell_type": "markdown",
   "id": "8ad2aac3",
   "metadata": {},
   "source": [
    "#### Arreglem els atributs amb dades buides:\n",
    "\n",
    "Com podem veure en l'apartat \"Explicació de les dades\", hi ha certs atributs que tenen entrades buides.\n",
    "Per a solucionar això podem fer diverses coses.\n",
    "\n",
    "Per a la temperatura interior del cotxe *(temp_inside)*, com que només tenim 12 entrades de 388 amb aquest atribut buit i no hi ha cap valor que desentoni (el mínim és XX i el màxim és XX). Hem decidit que podem fer la mitjana de totes les temperatures interiors en les que tinguem un valor i omplir les entrades buides amb aquesta mitjana. D'aquesta manera, tindrem totes les entrades d'aquest atribut amb un valor i, degut a que només estem omplint un 0,309% de les dades i ho fem amb la mitjana, no variarà gaire el resultat."
   ]
  },
  {
   "cell_type": "markdown",
   "id": "74780748",
   "metadata": {},
   "source": [
    "## En brut: Notes\n",
    "\n",
    "En la entrada 62, l'atribut specials està buit, però les de AC i rain estan a TRUE.\n",
    "rain == snow si rain == 1 i specials == snow. <br> <br>\n",
    "Entrada 192 --> Specials = half rain, half sun, però rain = TRUE i sun = FALSE<br> <br>\n",
    "Entrades 300 i 302, posa 'sun ac', posa AC al final, quan sempre ho feia al principi, i ho posa en minuscules, quan sempre posa AC en majúscules. (PERO ELS BOOLS ESTAN CORRECTES)<br> <br>\n",
    "Entrada 335 --> specials == ac (minuscules) --> PERO AC == False <br> <br>\n",
    "La resta correcte, segueixen havent-hi specials == AC i specials == ac, per tant, potser haurem d'anar amb compte si busquem un string i no buscar només en minúscules o majúscules.<br> <br>\n",
    "specials: AC, rain, snow, half rain, half sun, sun,<br> <br>\n",
    "\n",
    "\n",
    "#### Passos que fem:\n",
    "- Explicació de les dades\n",
    "- (Visualitzem els 5 primers i) Veure les estadístiques referents als atributs numèrics de la BBDD\n",
    "- Arreglem les dades buides:\n",
    "- "
   ]
  },
  {
   "cell_type": "code",
   "execution_count": null,
   "id": "e5db44a1",
   "metadata": {},
   "outputs": [],
   "source": []
  }
 ],
 "metadata": {
  "kernelspec": {
   "display_name": "Python 3 (ipykernel)",
   "language": "python",
   "name": "python3"
  },
  "language_info": {
   "codemirror_mode": {
    "name": "ipython",
    "version": 3
   },
   "file_extension": ".py",
   "mimetype": "text/x-python",
   "name": "python",
   "nbconvert_exporter": "python",
   "pygments_lexer": "ipython3",
   "version": "3.9.12"
  }
 },
 "nbformat": 4,
 "nbformat_minor": 5
}
